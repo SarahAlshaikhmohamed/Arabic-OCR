{
 "cells": [
  {
   "cell_type": "markdown",
   "metadata": {},
   "source": [
    "# Arabic OCR using 3D Street View"
   ]
  },
  {
   "cell_type": "markdown",
   "metadata": {},
   "source": [
    "### Install  Arabic-reshaper, Python-bidi, and EasyOCR libraries"
   ]
  },
  {
   "cell_type": "code",
   "execution_count": null,
   "metadata": {
    "colab": {
     "base_uri": "https://localhost:8080/"
    },
    "executionInfo": {
     "elapsed": 57310,
     "status": "ok",
     "timestamp": 1722523134439,
     "user": {
      "displayName": "Sarah Alshaikhmohammed",
      "userId": "09858775465046605257"
     },
     "user_tz": -180
    },
    "id": "WdWSgHnvNela",
    "outputId": "f8d26b63-6315-4d10-8129-1972e9014e97"
   },
   "outputs": [],
   "source": [
    "!pip install arabic-reshaper python-bidi easyocr"
   ]
  },
  {
   "cell_type": "markdown",
   "metadata": {},
   "source": [
    "### Import Necessary Libraries"
   ]
  },
  {
   "cell_type": "code",
   "execution_count": 11,
   "metadata": {
    "executionInfo": {
     "elapsed": 4854,
     "status": "ok",
     "timestamp": 1722523162083,
     "user": {
      "displayName": "Sarah Alshaikhmohammed",
      "userId": "09858775465046605257"
     },
     "user_tz": -180
    },
    "id": "9UJw3LoVNoPc"
   },
   "outputs": [],
   "source": [
    "import easyocr\n",
    "import matplotlib.pyplot as plt\n",
    "import numpy as np\n",
    "from PIL import Image, ImageEnhance\n",
    "import cv2\n",
    "import arabic_reshaper\n",
    "from bidi.algorithm import get_display"
   ]
  },
  {
   "cell_type": "markdown",
   "metadata": {},
   "source": [
    "### Define the Text Detector Function"
   ]
  },
  {
   "cell_type": "code",
   "execution_count": null,
   "metadata": {
    "executionInfo": {
     "elapsed": 356,
     "status": "ok",
     "timestamp": 1722523225622,
     "user": {
      "displayName": "Sarah Alshaikhmohammed",
      "userId": "09858775465046605257"
     },
     "user_tz": -180
    },
    "id": "lAiK4DtMU1Cr"
   },
   "outputs": [],
   "source": [
    "def text_detection(image_path):\n",
    "    \"\"\"\n",
    "    Detects the text in the given image.\n",
    "\n",
    "    Parameters\"\n",
    "    image (str): The image path to extract text from.\n",
    "\n",
    "    \"\"\"\n",
    "    image = None\n",
    "    result = None\n",
    "\n",
    "    def ocr(image_path):\n",
    "        \"\"\"\n",
    "        Detects the text in the given image using easyocr library.\n",
    "\n",
    "        Parameters\"\n",
    "        image_path (str): The image path to extract text from.\n",
    "\n",
    "        \"\"\"\n",
    "        image = Image.open(image_path)\n",
    "        reader = easyocr.Reader([\"ar\"], gpu=True)\n",
    "        result = reader.readtext(np.array(image))\n",
    "        return image, result\n",
    "    \n",
    "    def display_results(image, result):\n",
    "        \"\"\"\n",
    "        Displays the result of the given image with boxes surronding each word with the text and propability.\n",
    "\n",
    "        Parameters\"\n",
    "        image (str): The image used.\n",
    "        result (array): Text Detection results.\n",
    "\n",
    "        \"\"\"\n",
    "        image, result = ocr(image_path)\n",
    "\n",
    "        plt.figure(figsize=(15, 15))\n",
    "        plt.imshow(image, cmap='gray')\n",
    "        plt.axis('off')\n",
    "\n",
    "        sorted_result = sorted(result, key=lambda x: x[0][0][1])\n",
    "\n",
    "        for (bbox, text, prob) in sorted_result:\n",
    "            (top_left, top_right, bottom_right, bottom_left) = bbox\n",
    "            top_left = tuple(map(int, top_left))\n",
    "            bottom_right = tuple(map(int, bottom_right))\n",
    "\n",
    "            plt.plot([top_left[0], top_right[0], bottom_right[0], bottom_left[0], top_left[0]],\n",
    "                 [top_left[1], top_right[1], bottom_right[1], bottom_left[1], top_left[1]], 'r')\n",
    "\n",
    "            reshaped_text = arabic_reshaper.reshape(text)\n",
    "            bidi_text = get_display(reshaped_text)\n",
    "\n",
    "            bbox_width = bottom_right[0] - top_left[0]\n",
    "            plt.annotate(f\"{bidi_text} ({prob:.2f})\",\n",
    "                     (bottom_right[0], top_left[1]),\n",
    "                     color='r',\n",
    "                     fontsize=8,\n",
    "                     horizontalalignment='right',\n",
    "                     bbox=dict(facecolor='white', alpha=0.7, edgecolor='none', pad=0))\n",
    "\n",
    "            print(f\"Text: {text}, Probability: {prob}\")\n",
    "        plt.show()\n",
    "\n",
    "    return display_results(image, result)"
   ]
  },
  {
   "cell_type": "markdown",
   "metadata": {},
   "source": [
    "### Extract text using OCR"
   ]
  },
  {
   "cell_type": "code",
   "execution_count": null,
   "metadata": {
    "colab": {
     "base_uri": "https://localhost:8080/",
     "height": 1000
    },
    "executionInfo": {
     "elapsed": 7814,
     "status": "ok",
     "timestamp": 1722523675178,
     "user": {
      "displayName": "Sarah Alshaikhmohammed",
      "userId": "09858775465046605257"
     },
     "user_tz": -180
    },
    "id": "nmyJvPtdU7BQ",
    "outputId": "80d7160d-04df-46e4-e9e4-323531878b5d"
   },
   "outputs": [],
   "source": [
    "# Define the image path\n",
    "image_path = 'Examples\\3D-OCR1.jpg'\n",
    "\n",
    "# Call the function to extract text\n",
    "text_detection(image_path)"
   ]
  }
 ],
 "metadata": {
  "accelerator": "GPU",
  "colab": {
   "authorship_tag": "ABX9TyPwe8VQjuk6QVsjRt1vYedM",
   "gpuType": "T4",
   "provenance": []
  },
  "kernelspec": {
   "display_name": "Python 3",
   "name": "python3"
  },
  "language_info": {
   "name": "python"
  }
 },
 "nbformat": 4,
 "nbformat_minor": 0
}
