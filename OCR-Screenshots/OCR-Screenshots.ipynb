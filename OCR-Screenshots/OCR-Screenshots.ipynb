{
 "cells": [
  {
   "cell_type": "markdown",
   "metadata": {},
   "source": [
    "# Arabic OCR using Screenshots"
   ]
  },
  {
   "cell_type": "markdown",
   "metadata": {},
   "source": [
    "### Install EasyOCR library"
   ]
  },
  {
   "cell_type": "code",
   "execution_count": null,
   "metadata": {
    "colab": {
     "base_uri": "https://localhost:8080/"
    },
    "executionInfo": {
     "elapsed": 96214,
     "status": "ok",
     "timestamp": 1722524301555,
     "user": {
      "displayName": "Sarah Alshaikhmohammed",
      "userId": "09858775465046605257"
     },
     "user_tz": -180
    },
    "id": "EVPp5tV2cCnQ",
    "outputId": "5b521c0d-0f23-44b1-cdb8-fb8888d680cb"
   },
   "outputs": [],
   "source": [
    "!pip install torch torchvision easyocr\n",
    "!pip install matplotlib"
   ]
  },
  {
   "cell_type": "markdown",
   "metadata": {},
   "source": [
    "### Import Necessary Libraries"
   ]
  },
  {
   "cell_type": "code",
   "execution_count": 2,
   "metadata": {
    "executionInfo": {
     "elapsed": 6890,
     "status": "ok",
     "timestamp": 1722524395085,
     "user": {
      "displayName": "Sarah Alshaikhmohammed",
      "userId": "09858775465046605257"
     },
     "user_tz": -180
    },
    "id": "rCJbyJb0cWU7"
   },
   "outputs": [],
   "source": [
    "import easyocr\n",
    "import matplotlib.pyplot as plt\n",
    "import cv2"
   ]
  },
  {
   "cell_type": "markdown",
   "metadata": {},
   "source": [
    "### Define the OCR Function"
   ]
  },
  {
   "cell_type": "code",
   "execution_count": null,
   "metadata": {
    "colab": {
     "base_uri": "https://localhost:8080/"
    },
    "executionInfo": {
     "elapsed": 49936,
     "status": "ok",
     "timestamp": 1722524446944,
     "user": {
      "displayName": "Sarah Alshaikhmohammed",
      "userId": "09858775465046605257"
     },
     "user_tz": -180
    },
    "id": "uZ6Q_nBscaVd",
    "outputId": "2e0bfb38-69aa-416f-89d6-9f03d21d302c"
   },
   "outputs": [],
   "source": [
    "def ocr_function (image_path):\n",
    "    \"\"\"\n",
    "    Extracts the text from the given image using easyocr library.\n",
    "\n",
    "    Parameters\"\n",
    "    image_path (str): The image path to extract text from.\n",
    "\n",
    "    \"\"\"\n",
    "    # Create reader object and pass 'ar for Arabic\n",
    "    reader = easyocr.Reader(['ar'])\n",
    "    \n",
    "    # Pass the image path to reader object\n",
    "    result = reader.readtext(image_path)\n",
    "    sorted_result = sorted(result, key=lambda x: x[0][0][1])\n",
    "    image = cv2.imread(image_path)\n",
    "    image = cv2.cvtColor(image, cv2.COLOR_BGR2RGB)\n",
    "\n",
    "    plt.imshow(image)\n",
    "    plt.axis('off')\n",
    "    plt.show()\n",
    "    \n",
    "    for (bbox, text, prop) in sorted_result:\n",
    "        print(f\"Text: {text}, Probability: {prop}\")\n",
    "        \n",
    "    return"
   ]
  },
  {
   "cell_type": "markdown",
   "metadata": {},
   "source": [
    "### Extract text using OCR"
   ]
  },
  {
   "cell_type": "code",
   "execution_count": null,
   "metadata": {
    "colab": {
     "base_uri": "https://localhost:8080/",
     "height": 488
    },
    "executionInfo": {
     "elapsed": 802,
     "status": "ok",
     "timestamp": 1722524452996,
     "user": {
      "displayName": "Sarah Alshaikhmohammed",
      "userId": "09858775465046605257"
     },
     "user_tz": -180
    },
    "id": "Q3AdypwOck7_",
    "outputId": "2fc8d99e-2990-41e8-c8a0-a02881d65009"
   },
   "outputs": [],
   "source": [
    "# Define the image path\n",
    "image_path = 'Examples\\screenshot.jpg'\n",
    "\n",
    "# Call the function to extract text\n",
    "ocr_function(image_path)"
   ]
  }
 ],
 "metadata": {
  "colab": {
   "authorship_tag": "ABX9TyMZ+aMjm4Ckcv7zJLLNd+vG",
   "provenance": []
  },
  "kernelspec": {
   "display_name": "Python 3",
   "name": "python3"
  },
  "language_info": {
   "name": "python"
  }
 },
 "nbformat": 4,
 "nbformat_minor": 0
}
